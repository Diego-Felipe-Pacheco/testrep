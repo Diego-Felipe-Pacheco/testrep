{
 "cells": [
  {
   "cell_type": "markdown",
   "id": "29577100-9bd7-4284-a115-70200bd66aef",
   "metadata": {},
   "source": [
    "# Data Science and Ecosystem"
   ]
  },
  {
   "cell_type": "markdown",
   "id": "6a1a3368-b46b-438c-9be9-dcc47af900f2",
   "metadata": {},
   "source": [
    "  In this notebook, Data Science Tools and Ecosystem are summarized."
   ]
  },
  {
   "cell_type": "markdown",
   "id": "6f3b031e-8177-458d-a00e-273bfd8de0da",
   "metadata": {},
   "source": [
    "**Objectives:**\n",
    "\n",
    "* Handle markdown cells \n",
    "* Insert bold letters\n",
    "* Practice knoledge acquired"
   ]
  },
  {
   "cell_type": "markdown",
   "id": "f9790823-cb1f-4531-91da-f48993df7c95",
   "metadata": {},
   "source": [
    "Some of the popular languages that Data Scientists use are:\n",
    "1. Python\n",
    "2. R\n",
    "3. Julia"
   ]
  },
  {
   "cell_type": "markdown",
   "id": "d79cf555-2b0f-4bc3-904d-8385da67e664",
   "metadata": {},
   "source": [
    "Some of the commonly used libraries used by Data Scientists include:"
   ]
  },
  {
   "cell_type": "markdown",
   "id": "69b7bfff-ce63-42e5-bcdf-0e975fd755b6",
   "metadata": {},
   "source": [
    "1. Pandas\n",
    "2. Numpy\n",
    "3. Matplotlib"
   ]
  },
  {
   "cell_type": "markdown",
   "id": "f61a1831-1eef-402a-9627-c9c33c8f685a",
   "metadata": {},
   "source": [
    "| Data Science Tools |\n",
    "|--------|\n",
    "| VS Code |\n",
    "| Jupiter Notebook |\n",
    "| Theia |"
   ]
  },
  {
   "cell_type": "markdown",
   "id": "a4812a69-08de-4491-a72d-0a3987242704",
   "metadata": {},
   "source": [
    "### Below are a few examples of evaluating arithmetic expressions in Python."
   ]
  },
  {
   "cell_type": "code",
   "execution_count": 5,
   "id": "96547138-1375-4ddd-a01d-355018e37d11",
   "metadata": {},
   "outputs": [
    {
     "data": {
      "text/plain": [
       "17"
      ]
     },
     "execution_count": 5,
     "metadata": {},
     "output_type": "execute_result"
    }
   ],
   "source": [
    "#  This a simple arithmetic expression to mutiply then add integers.\n",
    "(3*4)+5"
   ]
  },
  {
   "cell_type": "code",
   "execution_count": 7,
   "id": "77c02ca4-1135-4a28-b163-f8904fd0d626",
   "metadata": {},
   "outputs": [
    {
     "data": {
      "text/plain": [
       "3.3333333333333335"
      ]
     },
     "execution_count": 7,
     "metadata": {},
     "output_type": "execute_result"
    }
   ],
   "source": [
    "# This will convert 200 minutes to hours by diving by 60.\n",
    "200/60"
   ]
  },
  {
   "cell_type": "markdown",
   "id": "291490ef-0e33-4285-8f03-a8710ca4e9ef",
   "metadata": {},
   "source": [
    "## Author\n",
    "# Diego Felipe Pacheco"
   ]
  },
  {
   "cell_type": "code",
   "execution_count": null,
   "id": "c12f78e2-c3fa-431b-8e72-cce1cc673f2d",
   "metadata": {},
   "outputs": [],
   "source": [
    "#"
   ]
  }
 ],
 "metadata": {
  "kernelspec": {
   "display_name": "Python 3 (ipykernel)",
   "language": "python",
   "name": "python3"
  },
  "language_info": {
   "codemirror_mode": {
    "name": "ipython",
    "version": 3
   },
   "file_extension": ".py",
   "mimetype": "text/x-python",
   "name": "python",
   "nbconvert_exporter": "python",
   "pygments_lexer": "ipython3",
   "version": "3.12.8"
  }
 },
 "nbformat": 4,
 "nbformat_minor": 5
}
